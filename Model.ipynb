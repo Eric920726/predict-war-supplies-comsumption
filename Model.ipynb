{
 "cells": [
  {
   "cell_type": "code",
   "execution_count": 7,
   "id": "94ea9f4d",
   "metadata": {},
   "outputs": [
    {
     "name": "stdout",
     "output_type": "stream",
     "text": [
      "[[50  0  0]\n",
      " [ 0 50  0]\n",
      " [ 0  0 50]]\n",
      "準確度：1.0\n"
     ]
    }
   ],
   "source": [
    "import pandas as pd\n",
    "import numpy as np\n",
    "from sklearn.metrics import accuracy_score,confusion_matrix\n",
    "dataset =pd.read_csv(\"C:/Users/Stephen/Downloads/iris.csv\")\n",
    "X = dataset.drop([\"class\"], axis=1) \n",
    "Y = dataset[\"class\"] \n",
    "from sklearn import tree\n",
    "DT_model= tree.DecisionTreeClassifier()\n",
    "DT_model.fit(X, Y)\n",
    "y_pred = DT_model.predict(X)\n",
    "print(confusion_matrix(Y,y_pred))\n",
    "print('準確度：' + str(accuracy_score(Y, y_pred)))\n"
   ]
  },
  {
   "cell_type": "code",
   "execution_count": 8,
   "id": "03c779b1",
   "metadata": {},
   "outputs": [
    {
     "name": "stdout",
     "output_type": "stream",
     "text": [
      "[[50  0  0]\n",
      " [ 0 47  3]\n",
      " [ 0  0 50]]\n",
      "準確度：0.98\n"
     ]
    },
    {
     "name": "stderr",
     "output_type": "stream",
     "text": [
      "C:\\Users\\Stephen\\anaconda3\\lib\\site-packages\\sklearn\\neural_network\\_multilayer_perceptron.py:614: ConvergenceWarning: Stochastic Optimizer: Maximum iterations (200) reached and the optimization hasn't converged yet.\n",
      "  warnings.warn(\n"
     ]
    }
   ],
   "source": [
    "import pandas as pd\n",
    "import numpy as np\n",
    "from sklearn.metrics import accuracy_score,confusion_matrix\n",
    "dataset =pd.read_csv(\"C:/Users/Stephen/Downloads/iris.csv\")\n",
    "X = dataset.drop([\"class\"], axis=1) \n",
    "Y = dataset[\"class\"] \n",
    "from sklearn.neural_network import MLPClassifier\n",
    "NN_model = MLPClassifier()\n",
    "NN_model.fit(X, Y)\n",
    "y_pred = NN_model.predict(X)\n",
    "print(confusion_matrix(Y,y_pred))\n",
    "print('準確度：' + str(accuracy_score(Y, y_pred)))\n"
   ]
  },
  {
   "cell_type": "code",
   "execution_count": 11,
   "id": "370d6a97",
   "metadata": {},
   "outputs": [
    {
     "name": "stdout",
     "output_type": "stream",
     "text": [
      "[[50  0  0]\n",
      " [ 0 48  2]\n",
      " [ 0  2 48]]\n",
      "準確度：0.9733333333333334\n"
     ]
    }
   ],
   "source": [
    "import pandas as pd\n",
    "import numpy as np\n",
    "from sklearn.metrics import accuracy_score,confusion_matrix\n",
    "dataset =pd.read_csv(\"C:/Users/Stephen/Downloads/iris.csv\")\n",
    "X = dataset.drop([\"class\"], axis=1) \n",
    "Y = dataset[\"class\"] \n",
    "from sklearn.neighbors import KNeighborsClassifier\n",
    "knn = KNeighborsClassifier(n_neighbors=6)\n",
    "knn.fit(X,Y)\n",
    "y_pred = knn.predict(X)\n",
    "print(confusion_matrix(Y,y_pred))\n",
    "print('準確度：' + str(accuracy_score(Y, y_pred)))"
   ]
  },
  {
   "cell_type": "code",
   "execution_count": 12,
   "id": "c14675f4",
   "metadata": {},
   "outputs": [
    {
     "name": "stdout",
     "output_type": "stream",
     "text": [
      "[[50  0  0]\n",
      " [ 0 47  3]\n",
      " [ 0  1 49]]\n",
      "準確度：0.9733333333333334\n"
     ]
    }
   ],
   "source": [
    "import pandas as pd\n",
    "import numpy as np\n",
    "from sklearn.metrics import accuracy_score,confusion_matrix\n",
    "dataset =pd.read_csv(\"C:/Users/Stephen/Downloads/iris.csv\")\n",
    "X = dataset.drop([\"class\"], axis=1) \n",
    "Y = dataset[\"class\"] \n",
    "from sklearn.linear_model import LogisticRegression\n",
    "LR=LogisticRegression()\n",
    "LR.fit(X, Y)\n",
    "y_pred = LR.predict(X)\n",
    "print(confusion_matrix(Y,y_pred))\n",
    "print('準確度：' + str(accuracy_score(Y, y_pred)))"
   ]
  },
  {
   "cell_type": "code",
   "execution_count": 13,
   "id": "ddb24bcc",
   "metadata": {},
   "outputs": [
    {
     "name": "stdout",
     "output_type": "stream",
     "text": [
      "[[50  0  0]\n",
      " [ 0 47  3]\n",
      " [ 0  3 47]]\n",
      "準確度：0.96\n"
     ]
    }
   ],
   "source": [
    "import pandas as pd\n",
    "import numpy as np\n",
    "from sklearn.metrics import accuracy_score,confusion_matrix\n",
    "dataset =pd.read_csv(\"C:/Users/Stephen/Downloads/iris.csv\")\n",
    "X = dataset.drop([\"class\"], axis=1) \n",
    "Y = dataset[\"class\"] \n",
    "from sklearn.naive_bayes import GaussianNB\n",
    "NB_model =GaussianNB()\n",
    "NB_model.fit(X, Y)\n",
    "y_pred = NB_model.predict(X)\n",
    "print(confusion_matrix(Y,y_pred))\n",
    "print('準確度：' + str(accuracy_score(Y, y_pred)))"
   ]
  },
  {
   "cell_type": "code",
   "execution_count": 14,
   "id": "f2a0d839",
   "metadata": {},
   "outputs": [
    {
     "name": "stdout",
     "output_type": "stream",
     "text": [
      "[[50  0  0]\n",
      " [ 0 48  2]\n",
      " [ 0  2 48]]\n",
      "準確度：0.9733333333333334\n"
     ]
    }
   ],
   "source": [
    "import pandas as pd\n",
    "import numpy as np\n",
    "from sklearn.metrics import accuracy_score,confusion_matrix\n",
    "dataset =pd.read_csv(\"C:/Users/Stephen/Downloads/iris.csv\")\n",
    "X = dataset.drop([\"class\"], axis=1) \n",
    "Y = dataset[\"class\"] \n",
    "from sklearn.svm import SVC\n",
    "SVM_model =SVC()\n",
    "SVM_model.fit(X, Y)\n",
    "y_pred = SVM_model.predict(X)\n",
    "print(confusion_matrix(Y,y_pred))\n",
    "print('準確度：' + str(accuracy_score(Y, y_pred)))"
   ]
  },
  {
   "cell_type": "code",
   "execution_count": null,
   "id": "07f1bdc1",
   "metadata": {},
   "outputs": [],
   "source": []
  }
 ],
 "metadata": {
  "kernelspec": {
   "display_name": "Python 3 (ipykernel)",
   "language": "python",
   "name": "python3"
  },
  "language_info": {
   "codemirror_mode": {
    "name": "ipython",
    "version": 3
   },
   "file_extension": ".py",
   "mimetype": "text/x-python",
   "name": "python",
   "nbconvert_exporter": "python",
   "pygments_lexer": "ipython3",
   "version": "3.9.7"
  }
 },
 "nbformat": 4,
 "nbformat_minor": 5
}
